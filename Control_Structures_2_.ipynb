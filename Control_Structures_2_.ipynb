{
  "nbformat": 4,
  "nbformat_minor": 0,
  "metadata": {
    "colab": {
      "provenance": []
    },
    "kernelspec": {
      "name": "python3",
      "display_name": "Python 3"
    },
    "language_info": {
      "name": "python"
    }
  },
  "cells": [
    {
      "cell_type": "markdown",
      "source": [
        "*** USE THE CONCEPT OF LOOPS TO SOLVE THE BELOW PROGRAMS***"
      ],
      "metadata": {
        "id": "LntIlHO5OfPf"
      }
    },
    {
      "cell_type": "markdown",
      "source": [
        "1) Python program to count the total number of digits in a number.\n",
        "\n",
        "TAKE THE INPUT NUMBER : 123456\n",
        "\n",
        "\n",
        "\n"
      ],
      "metadata": {
        "id": "vxHfbNtoOfRV"
      }
    },
    {
      "cell_type": "code",
      "source": [
        "#wRITE YOUR CODE HERE\n",
        "number = 123456\n",
        "count = 0\n",
        "for digit in str(number):\n",
        "    count += 1\n",
        "print(\"The number of digits in the number is:\", count)"
      ],
      "metadata": {
        "id": "_PKg5umLO2-q",
        "colab": {
          "base_uri": "https://localhost:8080/"
        },
        "outputId": "4f1a18d8-3828-49e5-e51c-d51bf8f3bab5"
      },
      "execution_count": 1,
      "outputs": [
        {
          "output_type": "stream",
          "name": "stdout",
          "text": [
            "The number of digits in the number is: 6\n"
          ]
        }
      ]
    },
    {
      "cell_type": "markdown",
      "source": [
        "2) Python program to count the number of even and odd numbers from a series of numbers.\n",
        "\n",
        "num_list = [1,3,5,6,99,134,55]"
      ],
      "metadata": {
        "id": "bXf8Z8feOfTn"
      }
    },
    {
      "cell_type": "code",
      "source": [
        "#WRITE YOUR CODE HERE\n",
        "num_list = [1, 3, 5, 6, 99, 134, 55]\n",
        "even_count = 0\n",
        "odd_count = 0\n",
        "\n",
        "for num in num_list:\n",
        "    if num % 2 == 0:\n",
        "        even_count += 1\n",
        "    else:\n",
        "        odd_count += 1\n",
        "\n",
        "print(\"Number of even numbers:\", even_count)\n",
        "print(\"Number of odd numbers:\", odd_count)"
      ],
      "metadata": {
        "id": "QzZjjwRCPIip",
        "colab": {
          "base_uri": "https://localhost:8080/"
        },
        "outputId": "b692a80a-8c47-41d8-beff-b7447783d0c7"
      },
      "execution_count": 2,
      "outputs": [
        {
          "output_type": "stream",
          "name": "stdout",
          "text": [
            "Number of even numbers: 2\n",
            "Number of odd numbers: 5\n"
          ]
        }
      ]
    },
    {
      "cell_type": "markdown",
      "source": [
        "3) Python program to get the Fibonacci series between 0 to 50."
      ],
      "metadata": {
        "id": "Ae6CdE7hOfWZ"
      }
    },
    {
      "cell_type": "code",
      "source": [
        "#WRITE YOUR CODE HERE\n",
        "def fibonacci_series(limit):\n",
        "    a, b = 0, 1\n",
        "    while b < limit:\n",
        "        print(b, end=\" \")\n",
        "        a, b = b, a + b\n",
        "\n",
        "fibonacci_series(50)"
      ],
      "metadata": {
        "id": "_IIZYCLPPTwI",
        "colab": {
          "base_uri": "https://localhost:8080/"
        },
        "outputId": "2549d67e-7d03-4602-b799-0a35f73ca1e3"
      },
      "execution_count": 3,
      "outputs": [
        {
          "output_type": "stream",
          "name": "stdout",
          "text": [
            "1 1 2 3 5 8 13 21 34 "
          ]
        }
      ]
    },
    {
      "cell_type": "markdown",
      "source": [
        "4) Python program that accepts a string and calculates the number of digits and letters.\n",
        "\n",
        "Input\n",
        "\n",
        "WEBBLINDERS1234"
      ],
      "metadata": {
        "id": "VYbquVMROfZz"
      }
    },
    {
      "cell_type": "code",
      "source": [
        "#WRITE YOUR CODE HERE\n",
        "input_string = \"WEBBLINDERS1234\"\n",
        "digit_count = 0\n",
        "letter_count = 0\n",
        "\n",
        "for char in input_string:\n",
        "    if char.isdigit():\n",
        "        digit_count += 1\n",
        "    elif char.isalpha():\n",
        "        letter_count += 1\n",
        "\n",
        "print(\"Number of digits:\", digit_count)\n",
        "print(\"Number of letters:\", letter_count)"
      ],
      "metadata": {
        "id": "iGYeja7XPop3",
        "colab": {
          "base_uri": "https://localhost:8080/"
        },
        "outputId": "64643e34-50fa-418b-9aeb-0fa04f00f237"
      },
      "execution_count": 4,
      "outputs": [
        {
          "output_type": "stream",
          "name": "stdout",
          "text": [
            "Number of digits: 4\n",
            "Number of letters: 11\n"
          ]
        }
      ]
    },
    {
      "cell_type": "markdown",
      "source": [
        "5) Python program to display all numbers within a range except the prime numbers.\n",
        "\n",
        "INPUT RANGE : 30 TO 80"
      ],
      "metadata": {
        "id": "RiVenPeDPqs_"
      }
    },
    {
      "cell_type": "code",
      "source": [
        "#WRITE YOUR CODE HERE\n",
        "def is_prime(num):\n",
        "    if num < 2:\n",
        "        return False\n",
        "    for i in range(2, int(num**0.5) + 1):\n",
        "        if num % i == 0:\n",
        "            return False\n",
        "    return True\n",
        "\n",
        "for number in range(30, 81):\n",
        "    if not is_prime(number):\n",
        "        print(number, end=\" \")"
      ],
      "metadata": {
        "id": "UTm21ayAPX02",
        "colab": {
          "base_uri": "https://localhost:8080/"
        },
        "outputId": "066faa9a-e0e8-4b05-b79e-dfb7f3e9354b"
      },
      "execution_count": 5,
      "outputs": [
        {
          "output_type": "stream",
          "name": "stdout",
          "text": [
            "30 32 33 34 35 36 38 39 40 42 44 45 46 48 49 50 51 52 54 55 56 57 58 60 62 63 64 65 66 68 69 70 72 74 75 76 77 78 80 "
          ]
        }
      ]
    }
  ]
}